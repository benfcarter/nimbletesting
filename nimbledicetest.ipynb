{
 "cells": [
  {
   "cell_type": "code",
   "execution_count": null,
   "id": "d71032c6-c7ad-4b9c-9411-21b7d8e52b7e",
   "metadata": {},
   "outputs": [],
   "source": [
    "from nimblediceroller import NimbleDiceRoller\n",
    "from raw5ediceroller import Raw5eDiceRoller"
   ]
  },
  {
   "cell_type": "code",
   "execution_count": null,
   "id": "1985d5c0-e846-422f-8468-6616a8fb1077",
   "metadata": {},
   "outputs": [],
   "source": [
    "nimble_roller = NimbleDiceRoller()\n",
    "raw_5e_roller = Raw5eDiceRoller()"
   ]
  },
  {
   "cell_type": "code",
   "execution_count": null,
   "id": "80d491c7-6839-4931-9c50-d90633172f8d",
   "metadata": {},
   "outputs": [],
   "source": [
    "print(raw_5e_roller.roll(\"2d10\", advantage=-1, print_results=True))"
   ]
  },
  {
   "cell_type": "code",
   "execution_count": null,
   "id": "d2822e18-e7cb-45d2-9136-aa4978be9776",
   "metadata": {},
   "outputs": [],
   "source": [
    "print(nimble_roller.roll(\"1d4\", advantage=1, print_results=True))"
   ]
  },
  {
   "cell_type": "code",
   "execution_count": null,
   "id": "227d10d1-c3e0-459f-add0-c48d819c0497",
   "metadata": {},
   "outputs": [],
   "source": []
  }
 ],
 "metadata": {
  "kernelspec": {
   "display_name": "Python 3 (ipykernel)",
   "language": "python",
   "name": "python3"
  },
  "language_info": {
   "codemirror_mode": {
    "name": "ipython",
    "version": 3
   },
   "file_extension": ".py",
   "mimetype": "text/x-python",
   "name": "python",
   "nbconvert_exporter": "python",
   "pygments_lexer": "ipython3",
   "version": "3.8.0"
  }
 },
 "nbformat": 4,
 "nbformat_minor": 5
}
