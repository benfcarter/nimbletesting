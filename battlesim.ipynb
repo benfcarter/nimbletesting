{
 "cells": [
  {
   "cell_type": "code",
   "execution_count": 266,
   "id": "8f8b5d62-904f-4c76-a967-fa053b33ecbb",
   "metadata": {},
   "outputs": [
    {
     "name": "stdout",
     "output_type": "stream",
     "text": [
      "[4, 1, 1]\n",
      "[4, 2]\n",
      "11\n"
     ]
    }
   ],
   "source": [
    "import random\n",
    "\n",
    "def roll_dice(dice_str, explode, advantage=0):\n",
    "    try:\n",
    "        # Split the input string into number of dice and number of faces\n",
    "        num_dice, num_faces = map(int, dice_str.split('d'))\n",
    "\n",
    "        # Roll the dice and return the results\n",
    "        results = []\n",
    "\n",
    "        for roll_num in range(num_dice):\n",
    "            # Roll a die with the given number of faces\n",
    "\n",
    "            if roll_num == 0:\n",
    "                num_dice = abs(advantage) + 1\n",
    "                result_list = [random.randint(1, num_faces) for _ in range(num_dice)]\n",
    "\n",
    "                if advantage > 0:\n",
    "                    result = max(result_list)\n",
    "                elif advantage < 0:\n",
    "                    result = min(result_list)\n",
    "                else:\n",
    "                    result = result_list[0]\n",
    "\n",
    "                # If explode is True and the result equals the number of faces, keep rolling\n",
    "                while explode and result == num_faces:\n",
    "                    results.append(result)  # Record the result\n",
    "                    result = random.randint(1, num_faces)\n",
    "            else:\n",
    "                result = random.randint(1, num_faces)\n",
    "\n",
    "            results.append(result)  # Record the final result\n",
    "\n",
    "        return results\n",
    "    \n",
    "    except ValueError:\n",
    "        # Handle the case where the input values are not valid\n",
    "        return \"Invalid input values. Please use integers for num_dice and num_faces.\"\n",
    "    \n",
    "def attack_roll(dice_str, damage_threshold, damage_modifier):\n",
    "    # Roll the dice using the roll_dice function\n",
    "    dice_results = roll_dice(dice_str, True)\n",
    "    print(dice_results)\n",
    "\n",
    "    # Check if the first value is less than the damage threshold\n",
    "    if dice_results[0] < damage_threshold:\n",
    "        return 0  # No damage done\n",
    "\n",
    "    # Initialize total damage with the sum of dice results and the damage modifier\n",
    "    total_damage = sum(dice_results) + damage_modifier\n",
    "\n",
    "    return total_damage\n",
    "\n",
    "# Example usage:\n",
    "print(roll_dice(\"2d4\", True, 3))\n",
    "\n",
    "damage = attack_roll(\"1d4\", damage_threshold=1, damage_modifier=5)\n",
    "print(damage)"
   ]
  },
  {
   "cell_type": "code",
   "execution_count": 267,
   "id": "fc256dc6-88ea-48f0-ba0c-475cdb74e211",
   "metadata": {},
   "outputs": [],
   "source": [
    "class Player:\n",
    "    def __init__(self, hp, ac, num_attacks, attack_dice, attack_modifier):\n",
    "        self.hp = hp\n",
    "        self.ac = ac\n",
    "        self.num_attacks = num_attacks\n",
    "        self.attack_dice = attack_dice\n",
    "        self.attack_modifier = attack_modifier\n",
    "\n",
    "    def attack_turn(self, target, print_results=False):\n",
    "        total_damage = 0\n",
    "\n",
    "        # Process normal attacks\n",
    "        for _ in range(self.num_attacks):\n",
    "            die_rolls = roll_dice(self.attack_dice, True)\n",
    "\n",
    "            if print_results:\n",
    "                print(\"Player attack roll: \" + str(die_rolls))\n",
    "\n",
    "            damage = target.process_attack_roll(die_rolls, self.attack_modifier, print_results)\n",
    "\n",
    "            if print_results:\n",
    "                print(\"Player did \" + str(damage) + \" damage\")\n",
    "                \n",
    "            total_damage += damage\n",
    "\n",
    "        # Process one more attack with disadvantage\n",
    "        die_rolls = roll_dice(self.attack_dice, True, -1)\n",
    "\n",
    "        if print_results:\n",
    "            print(\"Player attack roll (disadvantage): \" + str(die_rolls))\n",
    "\n",
    "        damage = target.process_attack_roll(die_rolls, self.attack_modifier, print_results)\n",
    "\n",
    "        if print_results:\n",
    "            print(\"Player did \" + str(damage) + \" damage\")\n",
    "            \n",
    "        total_damage += damage\n",
    "\n",
    "        if print_results:\n",
    "            print(\"Player did \" + str(total_damage) + \" damage this round\")\n",
    "        \n",
    "        return total_damage\n",
    "\n",
    "    def get_block_amount(self):\n",
    "        return self.ac - 8"
   ]
  },
  {
   "cell_type": "code",
   "execution_count": 268,
   "id": "a156f985-6229-4a13-81f5-26ce1abad3dc",
   "metadata": {},
   "outputs": [],
   "source": [
    "class Monster:\n",
    "    def __init__(self, hp, damage_threshold, num_attacks, attack_dice, attack_modifier):\n",
    "        self.hp = hp\n",
    "        self.damage_threshold = damage_threshold\n",
    "        self.num_attacks = num_attacks\n",
    "        self.attack_dice = attack_dice\n",
    "        self.attack_modifier = attack_modifier\n",
    "\n",
    "    def attack_turn(self, target, print_results=False):\n",
    "        used_block = False\n",
    "        total_damage = 0\n",
    "        for _ in range(self.num_attacks):\n",
    "            die_rolls = roll_dice(self.attack_dice, True)\n",
    "            if print_results:\n",
    "                print(\"Monster attack roll: \" + str(die_rolls))\n",
    "            if die_rolls[0] > 1:\n",
    "                damage = sum(die_rolls) + self.attack_modifier\n",
    "              \n",
    "                if not used_block:\n",
    "                    damage_after = max(0, damage - target.get_block_amount())\n",
    "                    if print_results:\n",
    "                        print(\"Monster did \" + str(damage) + \" damage but Player blocked \" + str(target.get_block_amount()))\n",
    "                    damage = damage_after\n",
    "                    used_block = True\n",
    "                else:\n",
    "                    if print_results:\n",
    "                        print(\"Monster did \" + str(damage) + \" damage\")\n",
    "                              \n",
    "                total_damage += damage\n",
    "            else:\n",
    "                if print_results:\n",
    "                    print(\"Monster missed\")\n",
    "\n",
    "        if print_results:\n",
    "            print(\"Monster did \" + str(total_damage) + \" damage this round\")\n",
    "            \n",
    "        return total_damage\n",
    "\n",
    "    def process_attack_roll(self, die_results, damage_modifier, print_results=False):\n",
    "        # Check if the first member of die_results is less than damage_threshold\n",
    "        if die_results[0] <= self.damage_threshold:\n",
    "            if print_results:\n",
    "                print(\"Roll was below damage threshold of \" + str(self.damage_threshold))\n",
    "            return 0  # No damage done\n",
    "\n",
    "        # Calculate the total damage by summing die_results and adding damage_modifier\n",
    "        total_damage = sum(die_results) + damage_modifier\n",
    "        return total_damage"
   ]
  },
  {
   "cell_type": "code",
   "execution_count": 269,
   "id": "a199f6f0-6d00-47fe-9f0e-e9c2f027ba5d",
   "metadata": {},
   "outputs": [],
   "source": [
    "fighter = Player(hp=40, ac=18, num_attacks=1, attack_dice=\"1d8\", attack_modifier=3)\n",
    "monster = Monster(hp=34, damage_threshold=1, num_attacks=2, attack_dice=\"1d10\", attack_modifier=4)"
   ]
  },
  {
   "cell_type": "code",
   "execution_count": 270,
   "id": "8f03595d-ce3a-44e4-9307-145b09685c74",
   "metadata": {},
   "outputs": [
    {
     "name": "stdout",
     "output_type": "stream",
     "text": [
      "Player attack roll: [6]\n",
      "Player did 9 damage\n",
      "Player attack roll (disadvantage): [2]\n",
      "Player did 5 damage\n",
      "Player did 14 damage this round\n",
      "14\n"
     ]
    }
   ],
   "source": [
    "print(fighter.attack_turn(monster, print_results=True))"
   ]
  },
  {
   "cell_type": "code",
   "execution_count": 274,
   "id": "4360d378-0418-454e-ac5c-a896b7154316",
   "metadata": {},
   "outputs": [
    {
     "name": "stdout",
     "output_type": "stream",
     "text": [
      "Monster attack roll: [9]\n",
      "Monster did 13 damage but Player blocked 10\n",
      "Monster attack roll: [2]\n",
      "Monster did 6 damage\n",
      "Monster did 9 damage this round\n",
      "9\n"
     ]
    }
   ],
   "source": [
    "print(monster.attack_turn(fighter, print_results=True))"
   ]
  },
  {
   "cell_type": "code",
   "execution_count": 275,
   "id": "de11f625-11f1-495c-8c94-35d1c96b5a9d",
   "metadata": {},
   "outputs": [],
   "source": [
    "def get_dpr(player, monster, num_simulations=100000):\n",
    "    average_damage = 0.0\n",
    "    for _ in range(num_simulations):\n",
    "        damage = player.attack_turn(monster)\n",
    "        average_damage += damage / num_simulations\n",
    "    return average_damage"
   ]
  },
  {
   "cell_type": "code",
   "execution_count": 288,
   "id": "0bb1505c-7447-4ec2-87f5-ad9800284b65",
   "metadata": {},
   "outputs": [
    {
     "name": "stdout",
     "output_type": "stream",
     "text": [
      "Player DPR: 12.984789999998542\n",
      "Monster DPR: 10.43724000000032\n",
      "Player Turns to Win: 2.61844819977865\n",
      "Monster Turns to Win: 3.8324307958807857\n"
     ]
    }
   ],
   "source": [
    "# BEGIN PLAYER AND MONSTER DEFINITIONS\n",
    "player = Player(hp=40, ac=18, num_attacks=1, attack_dice=\"1d8\", attack_modifier=3)\n",
    "monster = Monster(hp=34, damage_threshold=1, num_attacks=2, attack_dice=\"1d10\", attack_modifier=4)\n",
    "# END PLAYER AND MONSTER DEFINITIONS\n",
    "\n",
    "player_dpr = get_dpr(player, monster)\n",
    "player_turns = monster.hp / player_dpr\n",
    "monster_dpr = get_dpr(monster, player)\n",
    "monster_turns = player.hp / monster_dpr\n",
    "\n",
    "print(\"Player DPR: \" + str(player_dpr))\n",
    "print(\"Monster DPR: \" + str(monster_dpr))\n",
    "print(\"Player Turns to Win: \" + str(player_turns))\n",
    "print(\"Monster Turns to Win: \" + str(monster_turns))\n"
   ]
  },
  {
   "cell_type": "code",
   "execution_count": null,
   "id": "6cff65b1-6fa4-4946-ab0a-41c9208f91e3",
   "metadata": {},
   "outputs": [],
   "source": []
  }
 ],
 "metadata": {
  "kernelspec": {
   "display_name": "Python 3 (ipykernel)",
   "language": "python",
   "name": "python3"
  },
  "language_info": {
   "codemirror_mode": {
    "name": "ipython",
    "version": 3
   },
   "file_extension": ".py",
   "mimetype": "text/x-python",
   "name": "python",
   "nbconvert_exporter": "python",
   "pygments_lexer": "ipython3",
   "version": "3.8.0"
  }
 },
 "nbformat": 4,
 "nbformat_minor": 5
}
