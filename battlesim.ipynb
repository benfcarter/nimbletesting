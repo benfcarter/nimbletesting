{
 "cells": [
  {
   "cell_type": "code",
   "execution_count": 166,
   "id": "8f8b5d62-904f-4c76-a967-fa053b33ecbb",
   "metadata": {},
   "outputs": [
    {
     "name": "stdout",
     "output_type": "stream",
     "text": [
      "[3, 3]\n",
      "[4, 4, 4, 4, 2]\n",
      "23\n"
     ]
    }
   ],
   "source": [
    "import random\n",
    "import math\n",
    "\n",
    "def is_max_die_value(dice_str, roll_value):\n",
    "    num_dice, num_faces = map(int, dice_str.split('d'))\n",
    "    return roll_value == num_faces    \n",
    "\n",
    "def roll_dice(dice_str, explode, advantage=0):\n",
    "    try:\n",
    "        # Split the input string into number of dice and number of faces\n",
    "        num_dice, num_faces = map(int, dice_str.split('d'))\n",
    "\n",
    "        # Roll the dice and return the results\n",
    "        results = []\n",
    "\n",
    "        for roll_num in range(num_dice):\n",
    "            # Roll a die with the given number of faces\n",
    "\n",
    "            if roll_num == 0:\n",
    "                num_dice = abs(advantage) + 1\n",
    "                result_list = [random.randint(1, num_faces) for _ in range(num_dice)]\n",
    "\n",
    "                if advantage > 0:\n",
    "                    result = max(result_list)\n",
    "                elif advantage < 0:\n",
    "                    result = min(result_list)\n",
    "                else:\n",
    "                    result = result_list[0]\n",
    "\n",
    "                # If explode is True and the result equals the number of faces, keep rolling\n",
    "                while explode and result == num_faces:\n",
    "                    results.append(result)  # Record the result\n",
    "                    result = random.randint(1, num_faces)\n",
    "            else:\n",
    "                result = random.randint(1, num_faces)\n",
    "\n",
    "            results.append(result)  # Record the final result\n",
    "\n",
    "        return results\n",
    "    \n",
    "    except ValueError:\n",
    "        # Handle the case where the input values are not valid\n",
    "        return \"Invalid input values. Please use integers for num_dice and num_faces.\"\n",
    "    \n",
    "def attack_roll(dice_str, damage_threshold, damage_modifier):\n",
    "    # Roll the dice using the roll_dice function\n",
    "    dice_results = roll_dice(dice_str, True)\n",
    "    print(dice_results)\n",
    "\n",
    "    # Check if the first value is less than the damage threshold\n",
    "    if dice_results[0] < damage_threshold:\n",
    "        return 0  # No damage done\n",
    "\n",
    "    # Initialize total damage with the sum of dice results and the damage modifier\n",
    "    total_damage = sum(dice_results) + damage_modifier\n",
    "\n",
    "    return total_damage\n",
    "\n",
    "# Example usage:\n",
    "print(roll_dice(\"2d4\", True, 3))\n",
    "\n",
    "damage = attack_roll(\"1d4\", damage_threshold=1, damage_modifier=5)\n",
    "print(damage)"
   ]
  },
  {
   "cell_type": "code",
   "execution_count": 167,
   "id": "fc256dc6-88ea-48f0-ba0c-475cdb74e211",
   "metadata": {},
   "outputs": [],
   "source": [
    "class Character:\n",
    "    def __init__(self, name, hp, ac, num_attacks, attack_dice, damage_modifier):\n",
    "        self.name = name\n",
    "        self.hp = hp\n",
    "        self.ac = ac\n",
    "        self.num_attacks = num_attacks\n",
    "        self.attack_dice = attack_dice\n",
    "        self.damage_modifier = damage_modifier"
   ]
  },
  {
   "cell_type": "code",
   "execution_count": 168,
   "id": "a199f6f0-6d00-47fe-9f0e-e9c2f027ba5d",
   "metadata": {},
   "outputs": [],
   "source": [
    "fighter = Character(name=\"Fighter 3\", hp=40, ac=18, num_attacks=1, attack_dice=\"1d8\", damage_modifier=3)\n",
    "monster = Character(name=\"Light Armor Monster 3\", hp=34, ac=12, num_attacks=2, attack_dice=\"1d10\", damage_modifier=4)"
   ]
  },
  {
   "cell_type": "code",
   "execution_count": 169,
   "id": "dd62acd0-977c-4b57-bd2e-6a7ff024814a",
   "metadata": {},
   "outputs": [],
   "source": [
    "class AttackProcessor:\n",
    "    def perform_attacks(self, attacker, defender, defense_processor, print_results = False):\n",
    "        # ABSTRACT DEFINITION FOR PERFORMING ATTACKS\n",
    "        pass\n",
    "\n",
    "class DefenseProcessor:\n",
    "    def start_of_round(self):\n",
    "        # PROCESSING AT START OF ROUND\n",
    "        pass\n",
    "        \n",
    "    def did_attack_hit(self, attacker, defender, attack_dice, print_results = False) -> bool:\n",
    "        # ABSTRACT DEFINITION FOR CHECKING IF AN ATTACK HIT\n",
    "        pass\n",
    "        \n",
    "    def defend_against_attack(self, defender, attacker, die_rolls, print_results = False):\n",
    "        # ABSTRACT DEFINITION FOR DEFENDING ATTACKS\n",
    "        pass"
   ]
  },
  {
   "cell_type": "code",
   "execution_count": 170,
   "id": "49315c56-f22e-4887-a0a6-6bf8a75e08f5",
   "metadata": {},
   "outputs": [],
   "source": [
    "def get_damage_for_round(attacker, defender, attack_processor, defense_processor, print_results=False):\n",
    "    defense_processor.start_of_round()\n",
    "    damage = attack_processor.perform_attacks(attacker, defender, defense_processor, print_results)\n",
    "    return damage"
   ]
  },
  {
   "cell_type": "code",
   "execution_count": 192,
   "id": "cc18d995-5a1a-4253-a6ed-dde0443caeeb",
   "metadata": {},
   "outputs": [],
   "source": [
    "class NimbleFighterAttack(AttackProcessor):\n",
    "    def perform_attacks(self, attacker, defender, defense_processor, print_results=False):\n",
    "        debug_output = []\n",
    "        \n",
    "        total_damage = 0\n",
    "\n",
    "        # Process normal attacks\n",
    "        for _ in range(attacker.num_attacks):\n",
    "            damage = self.perform_single_attack(attacker, defender, defense_processor, 0, print_results)\n",
    "            total_damage += damage\n",
    "\n",
    "        # Process one more attack with disadvantage\n",
    "        damage = self.perform_single_attack(attacker, defender, defense_processor, -1, print_results)\n",
    "        total_damage += damage\n",
    "            \n",
    "        if print_results:\n",
    "            print(f'{attacker.name} total damage this round: {total_damage}')\n",
    "\n",
    "        return total_damage\n",
    "\n",
    "    def perform_single_attack(self, attacker, defender, defense_processor, advantage, print_results=False):\n",
    "        die_rolls = roll_dice(attacker.attack_dice, True, advantage)\n",
    "\n",
    "        if print_results:\n",
    "            print(f'{attacker.name} rolls to attack ({attacker.attack_dice}+{attacker.damage_modifier}, adv={advantage}): {die_rolls}')\n",
    "\n",
    "        hit = defense_processor.did_attack_hit(attacker, defender, die_rolls, print_results)\n",
    "\n",
    "        if hit:\n",
    "            damage = defense_processor.defend_against_attack(defender, attacker, die_rolls, print_results)\n",
    "        else:\n",
    "            damage = 0\n",
    "\n",
    "        if print_results:\n",
    "            print(f'{attacker.name} did {damage} damage')\n",
    "\n",
    "        return damage"
   ]
  },
  {
   "cell_type": "code",
   "execution_count": 193,
   "id": "89ad6900-27e0-447f-a496-f3926ef7dbb4",
   "metadata": {},
   "outputs": [
    {
     "name": "stdout",
     "output_type": "stream",
     "text": [
      "Fighter 3 rolls to attack (1d8+3, adv=0): [4]\n",
      "Attacker hit = True\n",
      "Fighter 3 did 7 damage\n",
      "Fighter 3 rolls to attack (1d8+3, adv=-1): [1]\n",
      "Attacker hit = False\n",
      "Fighter 3 did 0 damage\n",
      "Fighter 3 total damage this round: 7\n",
      "7\n"
     ]
    }
   ],
   "source": [
    "class NimbleMonsterLightArmorDefense(DefenseProcessor):\n",
    "    def did_attack_hit(self, attacker, defender, attack_dice, print_results = False) -> bool:\n",
    "        did_hit = attack_dice[0] > 1\n",
    "\n",
    "        if print_results:\n",
    "            print(f'Attacker hit = {did_hit}')\n",
    "        \n",
    "        return did_hit\n",
    "\n",
    "    def defend_against_attack(self, defender, attacker, die_rolls, print_results = False):\n",
    "        damage = sum(die_rolls) + attacker.damage_modifier\n",
    "        return damage\n",
    "        \n",
    "print(get_damage_for_round(fighter, monster, NimbleFighterAttack(), NimbleMonsterLightArmorDefense(), print_results=True))"
   ]
  },
  {
   "cell_type": "code",
   "execution_count": 194,
   "id": "8f03595d-ce3a-44e4-9307-145b09685c74",
   "metadata": {},
   "outputs": [
    {
     "name": "stdout",
     "output_type": "stream",
     "text": [
      "Fighter 3 rolls to attack (1d8+3, adv=0): [7]\n",
      "Attacker hit = True\n",
      "Fighter 3 did 7 damage\n",
      "Fighter 3 rolls to attack (1d8+3, adv=-1): [2]\n",
      "Attacker hit = True\n",
      "Fighter 3 did 2 damage\n",
      "Fighter 3 total damage this round: 9\n",
      "9\n"
     ]
    }
   ],
   "source": [
    "class NimbleMonsterMediumArmorDefense(DefenseProcessor):\n",
    "    def did_attack_hit(self, attacker, defender, attack_dice, print_results = False) -> bool:\n",
    "        did_hit = attack_dice[0] > 1\n",
    "\n",
    "        if print_results:\n",
    "            print(f'Attacker hit = {did_hit}')\n",
    "        \n",
    "        return did_hit\n",
    "\n",
    "    def defend_against_attack(self, defender, attacker, die_rolls, print_results = False):\n",
    "        damage = sum(die_rolls)\n",
    "\n",
    "        is_crit = is_max_die_value(attacker.attack_dice, die_rolls[0])\n",
    "        if is_crit:\n",
    "            damage += attacker.damage_modifier\n",
    "        \n",
    "        return damage\n",
    "\n",
    "print(get_damage_for_round(fighter, monster, NimbleFighterAttack(), NimbleMonsterMediumArmorDefense(), print_results=True))"
   ]
  },
  {
   "cell_type": "code",
   "execution_count": 195,
   "id": "475793ff-32a2-4474-94b6-6bedf6ca64f1",
   "metadata": {},
   "outputs": [
    {
     "name": "stdout",
     "output_type": "stream",
     "text": [
      "Fighter 3 rolls to attack (1d8+3, adv=0): [2]\n",
      "Attacker hit = True\n",
      "Fighter 3 did 3 damage\n",
      "Fighter 3 rolls to attack (1d8+3, adv=-1): [3]\n",
      "Attacker hit = True\n",
      "Fighter 3 did 3 damage\n",
      "Fighter 3 total damage this round: 6\n",
      "6\n"
     ]
    }
   ],
   "source": [
    "class NimbleMonsterHeavyArmorDefense(DefenseProcessor):\n",
    "    def did_attack_hit(self, attacker, defender, attack_dice, print_results = False) -> bool:\n",
    "        did_hit = attack_dice[0] > 1\n",
    "\n",
    "        if print_results:\n",
    "            print(f'Attacker hit = {did_hit}')\n",
    "        \n",
    "        return did_hit\n",
    "\n",
    "    def defend_against_attack(self, defender, attacker, die_rolls, print_results = False):\n",
    "        damage = sum(die_rolls) + attacker.damage_modifier\n",
    "        \n",
    "        is_crit = is_max_die_value(attacker.attack_dice, die_rolls[0])\n",
    "        if not is_crit:\n",
    "            damage = math.ceil(damage / 2)\n",
    "        \n",
    "        return damage\n",
    "        \n",
    "print(get_damage_for_round(fighter, monster, NimbleFighterAttack(), NimbleMonsterHeavyArmorDefense(), print_results=True))"
   ]
  },
  {
   "cell_type": "code",
   "execution_count": 209,
   "id": "6b2b3f65-38d6-4f42-8651-c89dca9672b1",
   "metadata": {},
   "outputs": [
    {
     "name": "stdout",
     "output_type": "stream",
     "text": [
      "Fighter 3 rolls to attack (1d8+3, adv=0): [5]\n",
      "Attacker hit = True\n",
      "Fighter 3 did 8 damage\n",
      "Fighter 3 rolls to attack (1d8+3, adv=-1): [1]\n",
      "Attacker hit = False\n",
      "Fighter 3 did 0 damage\n",
      "Fighter 3 total damage this round: 8\n",
      "8\n",
      "\n",
      "Fighter 3 rolls to attack (1d8+3, adv=0): [4]\n",
      "Attacker hit = True\n",
      "Fighter 3 did 4 damage\n",
      "Fighter 3 rolls to attack (1d8+3, adv=-1): [2]\n",
      "Attacker hit = True\n",
      "Fighter 3 did 2 damage\n",
      "Fighter 3 total damage this round: 6\n",
      "6\n",
      "\n",
      "Fighter 3 rolls to attack (1d8+3, adv=0): [8, 6]\n",
      "Attacker hit = True\n",
      "Fighter 3 did 17 damage\n",
      "Fighter 3 rolls to attack (1d8+3, adv=-1): [4]\n",
      "Attacker hit = True\n",
      "Fighter 3 did 4 damage\n",
      "Fighter 3 total damage this round: 21\n",
      "21\n"
     ]
    }
   ],
   "source": [
    "class NimbleMonsterArmorDefense(DefenseProcessor):\n",
    "    def __init__(self, monster):\n",
    "        if monster.ac < 13:\n",
    "            self.armor_processor = NimbleMonsterLightArmorDefense()\n",
    "        elif monster.ac < 17:\n",
    "            self.armor_processor = NimbleMonsterMediumArmorDefense()\n",
    "        else:\n",
    "            self.armor_processor = NimbleMonsterHeavyArmorDefense()\n",
    "\n",
    "    def start_of_round(self):\n",
    "        self.armor_processor.start_of_round()\n",
    "\n",
    "    def did_attack_hit(self, attacker, defender, attack_dice, print_results = False) -> bool:\n",
    "        return self.armor_processor.did_attack_hit(attacker, defender, attack_dice, print_results)\n",
    "\n",
    "    def defend_against_attack(self, defender, attacker, die_rolls, print_results = False):\n",
    "        return self.armor_processor.defend_against_attack(defender, attacker, die_rolls, print_results)\n",
    "\n",
    "monster.ac = 12\n",
    "print(get_damage_for_round(fighter, monster, NimbleFighterAttack(), NimbleMonsterArmorDefense(monster), print_results=True))\n",
    "print()\n",
    "\n",
    "monster.ac = 14\n",
    "print(get_damage_for_round(fighter, monster, NimbleFighterAttack(), NimbleMonsterArmorDefense(monster), print_results=True))\n",
    "print()\n",
    "\n",
    "monster.ac = 17\n",
    "print(get_damage_for_round(fighter, monster, NimbleFighterAttack(), NimbleMonsterArmorDefense(monster), print_results=True))"
   ]
  },
  {
   "cell_type": "code",
   "execution_count": 211,
   "id": "3ae6b2d8-e455-40ec-992e-beed444eff3e",
   "metadata": {},
   "outputs": [],
   "source": [
    "class NimbleMonsterAttack(AttackProcessor):\n",
    "    def perform_attacks(self, attacker, defender, defense_processor, print_results=False):\n",
    "        debug_output = []\n",
    "        \n",
    "        total_damage = 0\n",
    "\n",
    "        # Process normal attacks\n",
    "        for _ in range(attacker.num_attacks):\n",
    "            damage = self.perform_single_attack(attacker, defender, defense_processor, 0, print_results)\n",
    "            total_damage += damage\n",
    "            \n",
    "        if print_results:\n",
    "            print(f'{attacker.name} total damage this round: {total_damage}')\n",
    "\n",
    "        return total_damage\n",
    "\n",
    "    def perform_single_attack(self, attacker, defender, defense_processor, advantage, print_results=False):\n",
    "        die_rolls = roll_dice(attacker.attack_dice, True, advantage)\n",
    "\n",
    "        if print_results:\n",
    "            print(f'{attacker.name} rolls to attack ({attacker.attack_dice}+{attacker.damage_modifier}, adv={advantage}): {die_rolls}')\n",
    "\n",
    "        hit = defense_processor.did_attack_hit(attacker, defender, die_rolls, print_results)\n",
    "\n",
    "        if hit:\n",
    "            damage = defense_processor.defend_against_attack(defender, attacker, die_rolls, print_results)\n",
    "        else:\n",
    "            damage = 0\n",
    "\n",
    "        if print_results:\n",
    "            print(f'{attacker.name} did {damage} damage')\n",
    "\n",
    "        return damage"
   ]
  },
  {
   "cell_type": "code",
   "execution_count": 212,
   "id": "f4488680-da1f-49eb-a678-305a27a2a5c8",
   "metadata": {},
   "outputs": [
    {
     "name": "stdout",
     "output_type": "stream",
     "text": [
      "Monster rolls to attack (1d10+4, adv=0): [4]\n",
      "Attacker hit = True\n",
      "Fighter 3 blocks 10 damage\n",
      "Monster did 0 damage\n",
      "Monster rolls to attack (1d10+4, adv=0): [2]\n",
      "Attacker hit = True\n",
      "Monster did 6 damage\n",
      "Monster total damage this round: 6\n",
      "6\n"
     ]
    }
   ],
   "source": [
    "class NimblePlayerDefense(DefenseProcessor):\n",
    "    def __init__(self):\n",
    "        self.has_blocked = False\n",
    "\n",
    "    def start_of_round(self):\n",
    "        self.has_blocked = False\n",
    "\n",
    "    def did_attack_hit(self, attacker, defender, attack_dice, print_results = False) -> bool:\n",
    "        did_hit = attack_dice[0] > 1\n",
    "\n",
    "        if print_results:\n",
    "            print(f'Attacker hit = {did_hit}')\n",
    "        \n",
    "        return did_hit\n",
    "\n",
    "    def defend_against_attack(self, defender, attacker, die_rolls, print_results = False):\n",
    "        damage = sum(die_rolls) + attacker.damage_modifier\n",
    "        \n",
    "        if not self.has_blocked:\n",
    "            damage_reduction = defender.ac - 8\n",
    "\n",
    "            if print_results:\n",
    "                print(f'{defender.name} blocks {damage_reduction} damage')\n",
    "            \n",
    "            damage = max(0, damage - damage_reduction)\n",
    "            self.has_blocked = True\n",
    "        \n",
    "        return damage\n",
    "\n",
    "print(get_damage_for_round(monster, fighter, NimbleMonsterAttack(), NimblePlayerDefense(), print_results=True))"
   ]
  },
  {
   "cell_type": "code",
   "execution_count": 213,
   "id": "de11f625-11f1-495c-8c94-35d1c96b5a9d",
   "metadata": {},
   "outputs": [],
   "source": [
    "def get_dpr(attacker, defender, attack_processor, defense_processor, num_simulations=100000):\n",
    "    average_damage = 0.0\n",
    "    for _ in range(num_simulations):\n",
    "        damage = get_damage_for_round(attacker, defender, attack_processor, defense_processor)\n",
    "        average_damage += damage / num_simulations\n",
    "    return average_damage"
   ]
  },
  {
   "cell_type": "code",
   "execution_count": 221,
   "id": "0bb1505c-7447-4ec2-87f5-ad9800284b65",
   "metadata": {},
   "outputs": [
    {
     "name": "stdout",
     "output_type": "stream",
     "text": [
      "Player DPR: 13.012289999998755\n",
      "Monster DPR: 10.43901000000066\n",
      "Player Turns to Win: 2.612914406303829\n",
      "Monster Turns to Win: 3.8317809830623277\n"
     ]
    }
   ],
   "source": [
    "# BEGIN PLAYER AND MONSTER DEFINITIONS\n",
    "player = Character(name=\"Fighter 3\", hp=40, ac=18, num_attacks=1, attack_dice=\"1d8\", damage_modifier=3)\n",
    "monster = Character(name=\"Monster\", hp=34, ac=12, num_attacks=2, attack_dice=\"1d10\", damage_modifier=4)\n",
    "# END PLAYER AND MONSTER DEFINITIONS\n",
    "\n",
    "player_dpr = get_dpr(player, monster, NimbleFighterAttack(), NimbleMonsterArmorDefense(monster))\n",
    "player_turns = monster.hp / player_dpr\n",
    "monster_dpr = get_dpr(monster, player, NimbleMonsterAttack(), NimblePlayerDefense())\n",
    "monster_turns = player.hp / monster_dpr\n",
    "\n",
    "print(\"Player DPR: \" + str(player_dpr))\n",
    "print(\"Monster DPR: \" + str(monster_dpr))\n",
    "print(\"Player Turns to Win: \" + str(player_turns))\n",
    "print(\"Monster Turns to Win: \" + str(monster_turns))\n"
   ]
  },
  {
   "cell_type": "code",
   "execution_count": null,
   "id": "6cff65b1-6fa4-4946-ab0a-41c9208f91e3",
   "metadata": {},
   "outputs": [],
   "source": []
  }
 ],
 "metadata": {
  "kernelspec": {
   "display_name": "Python 3 (ipykernel)",
   "language": "python",
   "name": "python3"
  },
  "language_info": {
   "codemirror_mode": {
    "name": "ipython",
    "version": 3
   },
   "file_extension": ".py",
   "mimetype": "text/x-python",
   "name": "python",
   "nbconvert_exporter": "python",
   "pygments_lexer": "ipython3",
   "version": "3.8.0"
  }
 },
 "nbformat": 4,
 "nbformat_minor": 5
}
